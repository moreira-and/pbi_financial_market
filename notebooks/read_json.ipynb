{
 "cells": [
  {
   "cell_type": "code",
   "execution_count": 1,
   "metadata": {},
   "outputs": [],
   "source": [
    "import pandas as pd"
   ]
  },
  {
   "cell_type": "code",
   "execution_count": 2,
   "metadata": {},
   "outputs": [
    {
     "name": "stderr",
     "output_type": "stream",
     "text": [
      "<>:1: SyntaxWarning: invalid escape sequence '\\V'\n",
      "<>:1: SyntaxWarning: invalid escape sequence '\\V'\n",
      "C:\\Users\\andre\\AppData\\Local\\Temp\\ipykernel_11888\\3178768850.py:1: SyntaxWarning: invalid escape sequence '\\V'\n",
      "  df = pd.read_json('C:\\VIRTUALENVS\\pbi_financial_market\\data\\TIME_SERIES_INTRADAY.json')\n"
     ]
    },
    {
     "data": {
      "text/html": [
       "<div>\n",
       "<style scoped>\n",
       "    .dataframe tbody tr th:only-of-type {\n",
       "        vertical-align: middle;\n",
       "    }\n",
       "\n",
       "    .dataframe tbody tr th {\n",
       "        vertical-align: top;\n",
       "    }\n",
       "\n",
       "    .dataframe thead th {\n",
       "        text-align: right;\n",
       "    }\n",
       "</style>\n",
       "<table border=\"1\" class=\"dataframe\">\n",
       "  <thead>\n",
       "    <tr style=\"text-align: right;\">\n",
       "      <th></th>\n",
       "      <th>Meta Data</th>\n",
       "      <th>Time Series (Daily)</th>\n",
       "    </tr>\n",
       "  </thead>\n",
       "  <tbody>\n",
       "    <tr>\n",
       "      <th>1. Information</th>\n",
       "      <td>Daily Prices (open, high, low, close) and Volumes</td>\n",
       "      <td>NaN</td>\n",
       "    </tr>\n",
       "    <tr>\n",
       "      <th>2. Symbol</th>\n",
       "      <td>IBM</td>\n",
       "      <td>NaN</td>\n",
       "    </tr>\n",
       "    <tr>\n",
       "      <th>3. Last Refreshed</th>\n",
       "      <td>2024-12-06</td>\n",
       "      <td>NaN</td>\n",
       "    </tr>\n",
       "    <tr>\n",
       "      <th>4. Output Size</th>\n",
       "      <td>Compact</td>\n",
       "      <td>NaN</td>\n",
       "    </tr>\n",
       "    <tr>\n",
       "      <th>5. Time Zone</th>\n",
       "      <td>US/Eastern</td>\n",
       "      <td>NaN</td>\n",
       "    </tr>\n",
       "    <tr>\n",
       "      <th>...</th>\n",
       "      <td>...</td>\n",
       "      <td>...</td>\n",
       "    </tr>\n",
       "    <tr>\n",
       "      <th>2024-07-24</th>\n",
       "      <td>NaN</td>\n",
       "      <td>{'1. open': '184.1400', '2. high': '185.0714',...</td>\n",
       "    </tr>\n",
       "    <tr>\n",
       "      <th>2024-07-23</th>\n",
       "      <td>NaN</td>\n",
       "      <td>{'1. open': '184.3600', '2. high': '185.3800',...</td>\n",
       "    </tr>\n",
       "    <tr>\n",
       "      <th>2024-07-22</th>\n",
       "      <td>NaN</td>\n",
       "      <td>{'1. open': '183.4000', '2. high': '184.9700',...</td>\n",
       "    </tr>\n",
       "    <tr>\n",
       "      <th>2024-07-19</th>\n",
       "      <td>NaN</td>\n",
       "      <td>{'1. open': '186.3300', '2. high': '187.0000',...</td>\n",
       "    </tr>\n",
       "    <tr>\n",
       "      <th>2024-07-18</th>\n",
       "      <td>NaN</td>\n",
       "      <td>{'1. open': '186.6400', '2. high': '189.4700',...</td>\n",
       "    </tr>\n",
       "  </tbody>\n",
       "</table>\n",
       "<p>105 rows × 2 columns</p>\n",
       "</div>"
      ],
      "text/plain": [
       "                                                           Meta Data  \\\n",
       "1. Information     Daily Prices (open, high, low, close) and Volumes   \n",
       "2. Symbol                                                        IBM   \n",
       "3. Last Refreshed                                         2024-12-06   \n",
       "4. Output Size                                               Compact   \n",
       "5. Time Zone                                              US/Eastern   \n",
       "...                                                              ...   \n",
       "2024-07-24                                                       NaN   \n",
       "2024-07-23                                                       NaN   \n",
       "2024-07-22                                                       NaN   \n",
       "2024-07-19                                                       NaN   \n",
       "2024-07-18                                                       NaN   \n",
       "\n",
       "                                                 Time Series (Daily)  \n",
       "1. Information                                                   NaN  \n",
       "2. Symbol                                                        NaN  \n",
       "3. Last Refreshed                                                NaN  \n",
       "4. Output Size                                                   NaN  \n",
       "5. Time Zone                                                     NaN  \n",
       "...                                                              ...  \n",
       "2024-07-24         {'1. open': '184.1400', '2. high': '185.0714',...  \n",
       "2024-07-23         {'1. open': '184.3600', '2. high': '185.3800',...  \n",
       "2024-07-22         {'1. open': '183.4000', '2. high': '184.9700',...  \n",
       "2024-07-19         {'1. open': '186.3300', '2. high': '187.0000',...  \n",
       "2024-07-18         {'1. open': '186.6400', '2. high': '189.4700',...  \n",
       "\n",
       "[105 rows x 2 columns]"
      ]
     },
     "execution_count": 2,
     "metadata": {},
     "output_type": "execute_result"
    }
   ],
   "source": [
    "df = pd.read_json('C:\\VIRTUALENVS\\pbi_financial_market\\data\\TIME_SERIES_INTRADAY.json')\n",
    "df"
   ]
  }
 ],
 "metadata": {
  "kernelspec": {
   "display_name": "venv",
   "language": "python",
   "name": "python3"
  },
  "language_info": {
   "codemirror_mode": {
    "name": "ipython",
    "version": 3
   },
   "file_extension": ".py",
   "mimetype": "text/x-python",
   "name": "python",
   "nbconvert_exporter": "python",
   "pygments_lexer": "ipython3",
   "version": "3.12.6"
  }
 },
 "nbformat": 4,
 "nbformat_minor": 2
}
