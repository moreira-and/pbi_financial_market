{
 "cells": [
  {
   "cell_type": "code",
   "execution_count": 1,
   "metadata": {},
   "outputs": [],
   "source": [
    "import pandas as pd\n",
    "\n",
    "import requests"
   ]
  },
  {
   "cell_type": "code",
   "execution_count": null,
   "metadata": {},
   "outputs": [],
   "source": [
    "# Defina suas variáveis \n",
    "set_symbol = 'AAPL' # Substitua pelo símbolo da ação desejada\n",
    "set_interval = '1min' # Intervalo desejado (por exemplo, '1min', '5min', '15min', etc.)\n",
    "set_api_key = 'demo' # Substitua pela sua chave de API\n",
    "set_keywords={'.SA'} # Ativos listados na B3\n",
    "\n",
    "set_range_start='2023-07-01'\n",
    "set_range_end='2023-08-31'\n",
    "set_principal_symbols = 'AAPL,MSFT,IBM'\n",
    "\n",
    "set_fx_from_symbol = 'BRL'\n",
    "set_fx_to_symbol = 'USD'\n",
    "\n",
    "set_cripto_symbol = 'BTC'\n",
    "\n",
    "arr_commodities_functions= ['BRENT','NATURAL_GAS','COPPER','ALUMINUM','CORN','COTTON','SUGAR','COFFEE','ALL_COMMODITIES']"
   ]
  },
  {
   "cell_type": "markdown",
   "metadata": {},
   "source": [
    "# Ativos"
   ]
  },
  {
   "cell_type": "markdown",
   "metadata": {},
   "source": [
    "## Search Endpoint\n",
    "\n",
    "The Search Endpoint returns the best-matching symbols and market information based on keywords of your choice. The search results also contain match scores that provide you with the full flexibility to develop your own search and filtering logic.\n",
    "\n",
    "API Parameters:\n",
    "\n",
    "- Required: function\n",
    "    - The API function of your choice. In this case, function=SYMBOL_SEARCH\n",
    "\n",
    "- Required: keywords\n",
    "    - A text string of your choice. For example: keywords=microsoft.\n",
    "\n",
    "- Optional: datatype\n",
    "    - By default, datatype=json. Strings json and csv are accepted with the following specifications: json returns the search results in JSON format; csv returns the search results as a CSV (comma separated value) file.\n",
    "\n",
    "- Required: apikey"
   ]
  },
  {
   "cell_type": "code",
   "execution_count": 16,
   "metadata": {},
   "outputs": [
    {
     "name": "stdout",
     "output_type": "stream",
     "text": [
      "{'Information': 'The **demo** API key is for demo purposes only. Please claim your free API key at (https://www.alphavantage.co/support/#api-key) to explore our full API offerings. It takes fewer than 20 seconds.'}\n"
     ]
    }
   ],
   "source": [
    "url = (f'https://www.alphavantage.co/query?function=SYMBOL_SEARCH&keywords={set_keywords}&apikey={set_api_key}')\n",
    "r = requests.get(url)\n",
    "data = r.json()\n",
    "\n",
    "print(data)"
   ]
  },
  {
   "cell_type": "markdown",
   "metadata": {},
   "source": [
    "## TIME_SERIES_INTRADAY\n",
    "\n",
    "This API returns current and 20+ years of historical intraday OHLCV time series of the equity specified, covering pre-market and post-market hours where applicable (e.g., 4:00am to 8:00pm Eastern Time for the US market). You can query both raw (as-traded) and split/dividend-adjusted intraday data from this endpoint. The OHLCV data is sometimes called \"candles\" in finance literature."
   ]
  },
  {
   "cell_type": "code",
   "execution_count": null,
   "metadata": {},
   "outputs": [
    {
     "name": "stdout",
     "output_type": "stream",
     "text": [
      "{'Information': 'The **demo** API key is for demo purposes only. Please claim your free API key at (https://www.alphavantage.co/support/#api-key) to explore our full API offerings. It takes fewer than 20 seconds.'}\n"
     ]
    }
   ],
   "source": [
    "# URL da API\n",
    "url = ( f'https://www.alphavantage.co/query?function=TIME_SERIES_INTRADAY' f'&symbol={set_symbol}&interval={set_interval}&apikey={set_api_key}')\n",
    "\n",
    "# Faça a solicitação para a API\n",
    "response = requests.get(url) \n",
    "data = response.json()\n",
    "print(data)"
   ]
  },
  {
   "cell_type": "markdown",
   "metadata": {},
   "source": [
    "\n",
    "API Parameters\n",
    "❚ Required: function\n",
    "\n",
    "The time series of your choice. In this case, function=TIME_SERIES_INTRADAY\n",
    "\n",
    "❚ Required: symbol\n",
    "\n",
    "The name of the equity of your choice. For example: symbol=IBM\n",
    "\n",
    "❚ Required: interval\n",
    "\n",
    "Time interval between two consecutive data points in the time series. The following values are supported: 1min, 5min, 15min, 30min, 60min\n",
    "\n",
    "❚ Optional: adjusted\n",
    "\n",
    "By default, adjusted=true and the output time series is adjusted by historical split and dividend events. Set adjusted=false to query raw (as-traded) intraday values.\n",
    "\n",
    "❚ Optional: extended_hours\n",
    "\n",
    "By default, extended_hours=true and the output time series will include both the regular trading hours and the extended (pre-market and post-market) trading hours (4:00am to 8:00pm Eastern Time for the US market). Set extended_hours=false to query regular trading hours (9:30am to 4:00pm US Eastern Time) only.\n",
    "\n",
    "❚ Optional: month\n",
    "\n",
    "By default, this parameter is not set and the API will return intraday data for the most recent days of trading. You can use the month parameter (in YYYY-MM format) to query a specific month in history. For example, month=2009-01. Any month in the last 20+ years since 2000-01 (January 2000) is supported.\n",
    "\n",
    "❚ Optional: outputsize\n",
    "\n",
    "By default, outputsize=compact. Strings compact and full are accepted with the following specifications: compact returns only the latest 100 data points in the intraday time series; full returns trailing 30 days of the most recent intraday data if the month parameter (see above) is not specified, or the full intraday data for a specific month in history if the month parameter is specified. The \"compact\" option is recommended if you would like to reduce the data size of each API call.\n",
    "\n",
    "❚ Optional: datatype\n",
    "\n",
    "By default, datatype=json. Strings json and csv are accepted with the following specifications: json returns the intraday time series in JSON format; csv returns the time series as a CSV (comma separated value) file.\n",
    "\n",
    "❚ Required: apikey"
   ]
  },
  {
   "cell_type": "markdown",
   "metadata": {},
   "source": [
    "## Advanced Analytics (Fixed Window)\n",
    "This endpoint returns a rich set of advanced analytics metrics (e.g., total return, variance, auto-correlation, etc.) for a given time series over a fixed temporal window."
   ]
  },
  {
   "cell_type": "markdown",
   "metadata": {},
   "source": [
    "API Parameters\n",
    "❚ Required: function\n",
    "\n",
    "The function of your choice. In this case, function=ANALYTICS_FIXED_WINDOW\n",
    "\n",
    "❚ Required: SYMBOLS\n",
    "\n",
    "A list of symbols for the calculation. It can be a comma separated list of symbols as a string. Free API keys can specify up to 5 symbols per API request. Premium API keys can specify up to 50 symbols per API request.\n",
    "\n",
    "❚ Required: RANGE\n",
    "\n",
    "This is the date range for the series being requested. By default, the date range is the full set of data for the equity history. This can be further modified by the LIMIT variable.\n",
    "\n",
    "RANGE can take certain text values as inputs. They are:\n",
    "\n",
    "full\n",
    "{N}day\n",
    "{N}week\n",
    "{N}month\n",
    "{N}year\n",
    "For intraday time series, the following RANGE values are also accepted:\n",
    "\n",
    "{N}minute\n",
    "{N}hour\n",
    "Aside from the “full” value which represents the entire time series, the other values specify an interval to return the series for as measured backwards from the current date/time.\n",
    "\n",
    "To specify start & end dates for your analytics calcuation, simply add two RANGE parameters in your API request. For example: RANGE=2023-07-01&RANGE=2023-08-31 or RANGE=2020-12-01T00:04:00&RANGE=2020-12-06T23:59:59 with minute-level precision for intraday analytics. If the end date is missing, the end date is assumed to be the last trading date. In addition, you can request a full month of data by using YYYY-MM format like 2020-12. One day of intraday data can be requested by using YYYY-MM-DD format like 2020-12-06\n",
    "\n",
    "❚ Optional: OHLC\n",
    "\n",
    "This allows you to choose which open, high, low, or close field the calculation will be performed on. By default, OHLC=close. Valid values for these fields are open, high, low, close.\n",
    "\n",
    "❚ Required: INTERVAL\n",
    "\n",
    "Time interval between two consecutive data points in the time series. The following values are supported: 1min, 5min, 15min, 30min, 60min, DAILY, WEEKLY, MONTHLY.\n",
    "\n",
    "❚ Required: CALCULATIONS\n",
    "\n",
    "A comma separated list of the analytics metrics you would like to calculate:\n",
    "\n",
    "MIN: The minimum return (largest negative or smallest positive) for all values in the series\n",
    "MAX: The maximum return for all values in the series\n",
    "MEAN: The mean of all returns in the series\n",
    "MEDIAN: The median of all returns in the series\n",
    "CUMULATIVE_RETURN: The total return from the beginning to the end of the series range\n",
    "VARIANCE: The population variance of returns in the series range. Optionally, you can use VARIANCE(annualized=True)to normalized the output to an annual value. By default, the variance is not annualized.\n",
    "STDDEV: The population standard deviation of returns in the series range for each symbol. Optionally, you can use STDDEV(annualized=True)to normalized the output to an annual value. By default, the standard deviation is not annualized.\n",
    "MAX_DRAWDOWN: Largest peak to trough interval for each symbol in the series range\n",
    "HISTOGRAM: For each symbol, place the observed total returns in bins. By default, bins=10. Use HISTOGRAM(bins=20) to specify a custom bin value (e.g., 20).\n",
    "AUTOCORRELATION: For each symbol place, calculate the autocorrelation for the given lag (e.g., the lag in neighboring points for the autocorrelation calculation). By default, lag=1. Use AUTOCORRELATION(lag=2) to specify a custom lag value (e.g., 2).\n",
    "COVARIANCE: Returns a covariance matrix for the input symbols. Optionally, you can use COVARIANCE(annualized=True)to normalized the output to an annual value. By default, the covariance is not annualized.\n",
    "CORRELATION: Returns a correlation matrix for the input symbols, using the PEARSON method as default. You can also specify the KENDALL or SPEARMAN method through CORRELATION(method=KENDALL) or CORRELATION(method=SPEARMAN), respectively.\n",
    "❚ Required: apikey"
   ]
  },
  {
   "cell_type": "code",
   "execution_count": 21,
   "metadata": {},
   "outputs": [
    {
     "name": "stdout",
     "output_type": "stream",
     "text": [
      "{'meta_data': {'symbols': 'MSFT,IBM,AAPL', 'min_dt': '2023-07-03', 'max_dt': '2023-08-31', 'ohlc': 'Close', 'interval': 'DAILY'}, 'payload': {'RETURNS_CALCULATIONS': {'MEAN': {'MSFT': -0.0005772663739571029, 'IBM': 0.0025422876074108706, 'AAPL': -0.0004591101507972854}, 'STDDEV': {'MSFT': 0.014401849168320926, 'IBM': 0.007436311891614325, 'AAPL': 0.012845925557901618}, 'CORRELATION': {'index': ['MSFT', 'IBM', 'AAPL'], 'correlation': [[1.0], [-0.0583508133, 1.0], [0.3810754257, 0.0342698827, 1.0]]}}}}\n"
     ]
    }
   ],
   "source": [
    "url = (f'https://alphavantageapi.co/timeseries/analytics?SYMBOLS={set_principal_symbols}&RANGE={set_range_start}&RANGE={set_range_end}&INTERVAL=DAILY&OHLC=close&CALCULATIONS=MEAN,STDDEV,CORRELATION&apikey={set_api_key}')\n",
    "r = requests.get(url)\n",
    "data = r.json()\n",
    "\n",
    "print(data)"
   ]
  },
  {
   "cell_type": "markdown",
   "metadata": {},
   "source": [
    "## Fundamental Data\n",
    "We offer the following set of fundamental data APIs in various temporal dimensions covering key financial metrics, income statements, balance sheets, cash flow, and other fundamental data points.\n",
    "\n",
    "Company Overview\n",
    "This API returns the company information, financial ratios, and other key metrics for the equity specified. Data is generally refreshed on the same day a company reports its latest earnings and financials."
   ]
  },
  {
   "cell_type": "markdown",
   "metadata": {},
   "source": [
    "API Parameters\n",
    "❚ Required: function\n",
    "\n",
    "The function of your choice. In this case, function=OVERVIEW\n",
    "\n",
    "❚ Required: symbol\n",
    "\n",
    "The symbol of the ticker of your choice. For example: symbol=IBM.\n",
    "\n",
    "❚ Required: apikey"
   ]
  },
  {
   "cell_type": "code",
   "execution_count": null,
   "metadata": {},
   "outputs": [],
   "source": [
    "url = (f'https://www.alphavantage.co/query?function=OVERVIEW&symbol={set_symbol}&apikey={set_api_key}')\n",
    "r = requests.get(url)\n",
    "data = r.json()\n",
    "\n",
    "print(data)"
   ]
  },
  {
   "cell_type": "markdown",
   "metadata": {},
   "source": [
    "## FOREX"
   ]
  },
  {
   "cell_type": "markdown",
   "metadata": {},
   "source": [
    "## FX_DAILY\n",
    "\n",
    "This API returns the daily time series (timestamp, open, high, low, close) of the FX currency pair specified, updated realtime."
   ]
  },
  {
   "cell_type": "markdown",
   "metadata": {},
   "source": [
    "API Parameters\n",
    "❚ Required: function\n",
    "\n",
    "The time series of your choice. In this case, function=FX_DAILY\n",
    "\n",
    "❚ Required: from_symbol\n",
    "\n",
    "A three-letter symbol from the forex currency list. For example: from_symbol=EUR\n",
    "\n",
    "❚ Required: to_symbol\n",
    "\n",
    "A three-letter symbol from the forex currency list. For example: to_symbol=USD\n",
    "\n",
    "❚ Optional: outputsize\n",
    "\n",
    "By default, outputsize=compact. Strings compact and full are accepted with the following specifications: compact returns only the latest 100 data points in the daily time series; full returns the full-length daily time series. The \"compact\" option is recommended if you would like to reduce the data size of each API call.\n",
    "\n",
    "❚ Optional: datatype\n",
    "\n",
    "By default, datatype=json. Strings json and csv are accepted with the following specifications: json returns the daily time series in JSON format; csv returns the time series as a CSV (comma separated value) file.\n",
    "\n",
    "❚ Required: apikey"
   ]
  },
  {
   "cell_type": "code",
   "execution_count": null,
   "metadata": {},
   "outputs": [],
   "source": [
    "url = (f'https://www.alphavantage.co/query?function=FX_DAILY&from_symbol={set_fx_from_symbol}&to_symbol={set_fx_to_symbol}&apikey={set_api_key}')\n",
    "r = requests.get(url)\n",
    "data = r.json()\n",
    "\n",
    "print(data)"
   ]
  },
  {
   "cell_type": "markdown",
   "metadata": {},
   "source": [
    "# CRIPTO"
   ]
  },
  {
   "cell_type": "markdown",
   "metadata": {},
   "source": [
    "## CURRENCY_EXCHANGE_RATE Trending\n",
    "\n",
    "This API returns the realtime exchange rate for any pair of digital currency (e.g., Bitcoin) or physical currency (e.g., USD).\n",
    "\n"
   ]
  },
  {
   "cell_type": "markdown",
   "metadata": {},
   "source": [
    "API Parameters\n",
    "❚ Required: function\n",
    "\n",
    "The function of your choice. In this case, function=CURRENCY_EXCHANGE_RATE\n",
    "\n",
    "❚ Required: from_currency\n",
    "\n",
    "The currency you would like to get the exchange rate for. It can either be a physical currency or digital/crypto currency. For example: from_currency=USD or from_currency=BTC.\n",
    "\n",
    "❚ Required: to_currency\n",
    "\n",
    "The destination currency for the exchange rate. It can either be a physical currency or digital/crypto currency. For example: to_currency=USD or to_currency=BTC.\n",
    "\n",
    "❚ Required: apikey"
   ]
  },
  {
   "cell_type": "code",
   "execution_count": null,
   "metadata": {},
   "outputs": [],
   "source": [
    "url = (f'https://www.alphavantage.co/query?function=CURRENCY_EXCHANGE_RATE&from_currency={set_cripto_symbol}&to_currency={set_fx_from_symbol}&apikey={set_api_key}')\n",
    "r = requests.get(url)\n",
    "data = r.json()"
   ]
  },
  {
   "cell_type": "markdown",
   "metadata": {},
   "source": [
    "## DIGITAL_CURRENCY_DAILY\n",
    "\n",
    "This API returns the daily historical time series for a digital currency (e.g., BTC) traded on a specific market (e.g., EUR/Euro), refreshed daily at midnight (UTC). Prices and volumes are quoted in both the market-specific currency and USD."
   ]
  },
  {
   "cell_type": "markdown",
   "metadata": {},
   "source": [
    "API Parameters\n",
    "❚ Required: function\n",
    "\n",
    "The time series of your choice. In this case, function=DIGITAL_CURRENCY_DAILY\n",
    "\n",
    "❚ Required: symbol\n",
    "\n",
    "The digital/crypto currency of your choice. It can be any of the currencies in the digital currency list. For example: symbol=BTC.\n",
    "\n",
    "❚ Required: market\n",
    "\n",
    "The exchange market of your choice. It can be any of the market in the market list. For example: market=EUR.\n",
    "\n",
    "❚ Required: apikey"
   ]
  },
  {
   "cell_type": "code",
   "execution_count": null,
   "metadata": {},
   "outputs": [],
   "source": [
    "url = (f'https://www.alphavantage.co/query?function=DIGITAL_CURRENCY_DAILY&symbol={set_cripto_symbol}&market={set_fx_from_symbol}&apikey={set_api_key}')\n",
    "r = requests.get(url)\n",
    "data = r.json()"
   ]
  },
  {
   "cell_type": "markdown",
   "metadata": {},
   "source": [
    "# Commodities"
   ]
  },
  {
   "cell_type": "markdown",
   "metadata": {},
   "source": []
  },
  {
   "cell_type": "markdown",
   "metadata": {},
   "source": [
    "# Indices"
   ]
  },
  {
   "cell_type": "markdown",
   "metadata": {},
   "source": [
    "## Global Price Index of All Commodities\n",
    "\n",
    "This API returns the global price index of all commodities in monthly, quarterly, and annual temporal dimensions.\n",
    "\n",
    "Source: International Monetary Fund (IMF Terms of Use), Global Price Index of All Commodities, retrieved from FRED, Federal Reserve Bank of St. Louis. This data feed uses the FRED® API but is not endorsed or certified by the Federal Reserve Bank of St. Louis. By using this data feed, you agree to be bound by the FRED® API Terms of Use.\n",
    "\n"
   ]
  },
  {
   "cell_type": "markdown",
   "metadata": {},
   "source": [
    "API Parameters\n",
    "❚ Required: function\n",
    "\n",
    "The function of your choice. In this case, function=ALL_COMMODITIES\n",
    "\n",
    "❚ Optional: interval\n",
    "\n",
    "By default, interval=monthly. Strings monthly, quarterly, and annual are accepted.\n",
    "\n",
    "❚ Optional: datatype\n",
    "\n",
    "By default, datatype=json. Strings json and csv are accepted with the following specifications: json returns the time series in JSON format; csv returns the time series as a CSV (comma separated value) file.\n",
    "\n",
    "❚ Required: apikey"
   ]
  },
  {
   "cell_type": "code",
   "execution_count": null,
   "metadata": {},
   "outputs": [],
   "source": [
    "# Loop para cada tipo de commodities\n",
    "for comm in arr_commodities_functions:\n",
    "    # Construir a URL para a solicitação\n",
    "    url = f'https://www.alphavantage.co/query?function={comm}&apikey={set_api_key}'\n",
    "    # Fazer a solicitação\n",
    "    r = requests.get(url)\n",
    "    # Obter a resposta em JSON\n",
    "    data = r.json()\n",
    "    # Verificar se os dados foram retornados corretamente\n",
    "    if \"Error Message\" in data:\n",
    "        print(f\"Erro ao buscar dados para {comm}: {data['Error Message']}\")\n",
    "    else:\n",
    "        print(f\"Dados para {comm}:\")\n",
    "        print(data)\n"
   ]
  },
  {
   "cell_type": "markdown",
   "metadata": {},
   "source": [
    "# Treasury Yield"
   ]
  },
  {
   "cell_type": "markdown",
   "metadata": {},
   "source": [
    "# INFLATION"
   ]
  }
 ],
 "metadata": {
  "kernelspec": {
   "display_name": "venv",
   "language": "python",
   "name": "python3"
  },
  "language_info": {
   "codemirror_mode": {
    "name": "ipython",
    "version": 3
   },
   "file_extension": ".py",
   "mimetype": "text/x-python",
   "name": "python",
   "nbconvert_exporter": "python",
   "pygments_lexer": "ipython3",
   "version": "3.12.6"
  }
 },
 "nbformat": 4,
 "nbformat_minor": 2
}
