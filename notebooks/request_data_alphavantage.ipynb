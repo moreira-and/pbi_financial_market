{
 "cells": [
  {
   "cell_type": "code",
   "execution_count": 1,
   "metadata": {},
   "outputs": [],
   "source": [
    "import requests\n",
    "import json\n",
    "import os"
   ]
  },
  {
   "cell_type": "code",
   "execution_count": 2,
   "metadata": {},
   "outputs": [],
   "source": [
    "# Defina suas variáveis \n",
    "\n",
    "folder_path = '../data'\n",
    "\n",
    "set_symbol = 'PETR4.SAO' # Substitua pelo símbolo da ação desejada\n",
    "set_interval = '5min' # Intervalo desejado (por exemplo, '5min', '15min', etc.)\n",
    "set_api_key = 'demo' # Substitua pela sua chave de API\n",
    "set_keywords='PETR4.SAO' # Ativo principal\n",
    "\n",
    "set_range_start='2024-01-01'\n",
    "set_range_end='2024-10-31'\n",
    "\n",
    "# Lista de elementos\n",
    "arr_principal_symbols = ['PETR4.SAO', 'ITUB4.SAO', 'VALE3.SAO', 'WEGE3.SAO', 'ABEV3.SAO']\n",
    "# Transformar a lista em uma única string separada por ','\n",
    "symbols_string = ','.join(arr_principal_symbols)\n",
    "\n",
    "\n",
    "set_fx_from_symbol = 'BRL'\n",
    "set_fx_to_symbol = 'USD'\n",
    "\n",
    "set_cripto_symbol = 'BTC'\n",
    "\n",
    "arr_commodities_functions= ['BRENT','NATURAL_GAS','COPPER','ALUMINUM','CORN','COTTON','SUGAR','COFFEE','ALL_COMMODITIES']"
   ]
  },
  {
   "cell_type": "markdown",
   "metadata": {},
   "source": [
    "# Ativos"
   ]
  },
  {
   "cell_type": "markdown",
   "metadata": {},
   "source": [
    "## Search Endpoint\n",
    "\n",
    "The Search Endpoint returns the best-matching symbols and market information based on keywords of your choice. The search results also contain match scores that provide you with the full flexibility to develop your own search and filtering logic.\n",
    "\n",
    "API Parameters:\n",
    "\n",
    "- Required: function\n",
    "    - The API function of your choice. In this case, function=SYMBOL_SEARCH\n",
    "\n",
    "- Required: keywords\n",
    "    - A text string of your choice. For example: keywords=microsoft.\n",
    "\n",
    "- Optional: datatype\n",
    "    - By default, datatype=json. Strings json and csv are accepted with the following specifications: json returns the search results in JSON format; csv returns the search results as a CSV (comma separated value) file.\n",
    "\n",
    "- Required: apikey"
   ]
  },
  {
   "cell_type": "code",
   "execution_count": 3,
   "metadata": {},
   "outputs": [
    {
     "data": {
      "text/plain": [
       "\"\\nurl = (f'https://www.alphavantage.co/query?function=SYMBOL_SEARCH&keywords={set_keywords}&apikey={set_api_key}')\\nr = requests.get(url)\\ndata = r.json()\\n\\nprint(data)\\n\\n\""
      ]
     },
     "execution_count": 3,
     "metadata": {},
     "output_type": "execute_result"
    }
   ],
   "source": [
    "'''\n",
    "url = (f'https://www.alphavantage.co/query?function=SYMBOL_SEARCH&keywords={set_keywords}&apikey={set_api_key}')\n",
    "r = requests.get(url)\n",
    "data = r.json()\n",
    "\n",
    "print(data)\n",
    "\n",
    "'''"
   ]
  },
  {
   "cell_type": "markdown",
   "metadata": {},
   "source": [
    "## TIME_SERIES_INTRADAY\n",
    "\n",
    "This API returns current and 20+ years of historical intraday OHLCV time series of the equity specified, covering pre-market and post-market hours where applicable (e.g., 4:00am to 8:00pm Eastern Time for the US market). You can query both raw (as-traded) and split/dividend-adjusted intraday data from this endpoint. The OHLCV data is sometimes called \"candles\" in finance literature."
   ]
  },
  {
   "cell_type": "code",
   "execution_count": 4,
   "metadata": {},
   "outputs": [
    {
     "name": "stdout",
     "output_type": "stream",
     "text": [
      "Dados salvos em: ../data\\TIME_SERIES_INTRADAY.json\n"
     ]
    }
   ],
   "source": [
    "# Dicionário para armazenar todos os dados\n",
    "all_data = {}\n",
    "\n",
    "# Loop para cada símbolo\n",
    "for symbol in arr_principal_symbols:\n",
    "    # Construir a URL para a solicitação\n",
    "    url = f'https://www.alphavantage.co/query?function=TIME_SERIES_INTRADAY&symbol={symbol}&interval={set_interval}&apikey={set_api_key}'\n",
    "    \n",
    "    # Fazer a solicitação\n",
    "    response = requests.get(url)\n",
    "    data = response.json()\n",
    "    \n",
    "    # Adicionar os dados ao dicionário all_data com o symbol como chave\n",
    "    all_data[symbol] = data\n",
    "\n",
    "# Definir o nome do arquivo\n",
    "file_name = 'TIME_SERIES_INTRADAY.json'\n",
    "\n",
    "# Caminho completo do arquivo\n",
    "file_path = os.path.join(folder_path, file_name)\n",
    "\n",
    "# Salvar todos os dados no arquivo JSON\n",
    "with open(file_path, 'w') as json_file:\n",
    "    json.dump(all_data, json_file, indent=4)\n",
    "\n",
    "print(f'Dados salvos em: {file_path}')"
   ]
  },
  {
   "cell_type": "markdown",
   "metadata": {},
   "source": [
    "\n",
    "API Parameters\n",
    "❚ Required: function\n",
    "\n",
    "The time series of your choice. In this case, function=TIME_SERIES_INTRADAY\n",
    "\n",
    "❚ Required: symbol\n",
    "\n",
    "The name of the equity of your choice. For example: symbol=IBM\n",
    "\n",
    "❚ Required: interval\n",
    "\n",
    "Time interval between two consecutive data points in the time series. The following values are supported: 1min, 5min, 15min, 30min, 60min\n",
    "\n",
    "❚ Optional: adjusted\n",
    "\n",
    "By default, adjusted=true and the output time series is adjusted by historical split and dividend events. Set adjusted=false to query raw (as-traded) intraday values.\n",
    "\n",
    "❚ Optional: extended_hours\n",
    "\n",
    "By default, extended_hours=true and the output time series will include both the regular trading hours and the extended (pre-market and post-market) trading hours (4:00am to 8:00pm Eastern Time for the US market). Set extended_hours=false to query regular trading hours (9:30am to 4:00pm US Eastern Time) only.\n",
    "\n",
    "❚ Optional: month\n",
    "\n",
    "By default, this parameter is not set and the API will return intraday data for the most recent days of trading. You can use the month parameter (in YYYY-MM format) to query a specific month in history. For example, month=2009-01. Any month in the last 20+ years since 2000-01 (January 2000) is supported.\n",
    "\n",
    "❚ Optional: outputsize\n",
    "\n",
    "By default, outputsize=compact. Strings compact and full are accepted with the following specifications: compact returns only the latest 100 data points in the intraday time series; full returns trailing 30 days of the most recent intraday data if the month parameter (see above) is not specified, or the full intraday data for a specific month in history if the month parameter is specified. The \"compact\" option is recommended if you would like to reduce the data size of each API call.\n",
    "\n",
    "❚ Optional: datatype\n",
    "\n",
    "By default, datatype=json. Strings json and csv are accepted with the following specifications: json returns the intraday time series in JSON format; csv returns the time series as a CSV (comma separated value) file.\n",
    "\n",
    "❚ Required: apikey"
   ]
  },
  {
   "cell_type": "markdown",
   "metadata": {},
   "source": [
    "## Market News & Sentiment Trending\n",
    "\n",
    "Looking for market news data to train your LLM models or to augment your trading strategy? You have just found it. This API returns live and historical market news & sentiment data from a large & growing selection of premier news outlets around the world, covering stocks, cryptocurrencies, forex, and a wide range of topics such as fiscal policy, mergers & acquisitions, IPOs, etc. This API, combined with our core stock API, fundamental data, and technical indicator APIs, can provide you with a 360-degree view of the financial market and the broader economy."
   ]
  },
  {
   "cell_type": "markdown",
   "metadata": {},
   "source": [
    "API Parameters\n",
    "❚ Required: function\n",
    "\n",
    "The function of your choice. In this case, function=NEWS_SENTIMENT\n",
    "\n",
    "❚ Optional: tickers\n",
    "\n",
    "The stock/crypto/forex symbols of your choice. For example: tickers=IBM will filter for articles that mention the IBM ticker; tickers=COIN,CRYPTO:BTC,FOREX:USD will filter for articles that simultaneously mention Coinbase (COIN), Bitcoin (CRYPTO:BTC), and US Dollar (FOREX:USD) in their content.\n",
    "\n",
    "❚ Optional: topics\n",
    "\n",
    "The news topics of your choice. For example: topics=technology will filter for articles that write about the technology sector; topics=technology,ipo will filter for articles that simultaneously cover technology and IPO in their content. Below is the full list of supported topics:\n",
    "\n",
    "Blockchain: blockchain\n",
    "Earnings: earnings\n",
    "IPO: ipo\n",
    "Mergers & Acquisitions: mergers_and_acquisitions\n",
    "Financial Markets: financial_markets\n",
    "Economy - Fiscal Policy (e.g., tax reform, government spending): economy_fiscal\n",
    "Economy - Monetary Policy (e.g., interest rates, inflation): economy_monetary\n",
    "Economy - Macro/Overall: economy_macro\n",
    "Energy & Transportation: energy_transportation\n",
    "Finance: finance\n",
    "Life Sciences: life_sciences\n",
    "Manufacturing: manufacturing\n",
    "Real Estate & Construction: real_estate\n",
    "Retail & Wholesale: retail_wholesale\n",
    "Technology: technology\n",
    "❚ Optional: time_from and time_to\n",
    "\n",
    "The time range of the news articles you are targeting, in YYYYMMDDTHHMM format. For example: time_from=20220410T0130. If time_from is specified but time_to is missing, the API will return articles published between the time_from value and the current time.\n",
    "\n",
    "❚ Optional: sort\n",
    "\n",
    "By default, sort=LATEST and the API will return the latest articles first. You can also set sort=EARLIEST or sort=RELEVANCE based on your use case.\n",
    "\n",
    "❚ Optional: limit\n",
    "\n",
    "By default, limit=50 and the API will return up to 50 matching results. You can also set limit=1000 to output up to 1000 results.\n",
    "\n",
    "❚ Required: apikey"
   ]
  },
  {
   "cell_type": "code",
   "execution_count": 5,
   "metadata": {},
   "outputs": [
    {
     "name": "stdout",
     "output_type": "stream",
     "text": [
      "Dados salvos em: ../data\\NEWS_SENTIMENT.json\n"
     ]
    }
   ],
   "source": [
    "# replace the \"demo\" apikey below with your own key from https://www.alphavantage.co/support/#api-key\n",
    "url = 'https://www.alphavantage.co/query?function=NEWS_SENTIMENT&tickers=AAPL&apikey=demo'\n",
    "r = requests.get(url)\n",
    "data = r.json()\n",
    "\n",
    "# Dicionário para armazenar todos os dados\n",
    "all_data = {}\n",
    "\n",
    "# Loop para cada símbolo\n",
    "for symbol in arr_principal_symbols:\n",
    "    # Construir a URL para a solicitação\n",
    "    url = f'https://www.alphavantage.co/query?function=NEWS_SENTIMENT&tickers={symbol}L&apikey={set_api_key}'\n",
    "\n",
    "    # Fazer a solicitação\n",
    "    response = requests.get(url)\n",
    "    data = response.json()\n",
    "    \n",
    "    # Adicionar os dados ao dicionário all_data com o symbol como chave\n",
    "    all_data[symbol] = data\n",
    "\n",
    "# Definir o nome do arquivo\n",
    "file_name = 'NEWS_SENTIMENT.json'\n",
    "\n",
    "# Caminho completo do arquivo\n",
    "file_path = os.path.join(folder_path, file_name)\n",
    "\n",
    "# Salvar todos os dados no arquivo JSON\n",
    "with open(file_path, 'w') as json_file:\n",
    "    json.dump(all_data, json_file, indent=4)\n",
    "\n",
    "print(f'Dados salvos em: {file_path}')"
   ]
  },
  {
   "cell_type": "markdown",
   "metadata": {},
   "source": [
    "## Advanced Analytics (Fixed Window)\n",
    "This endpoint returns a rich set of advanced analytics metrics (e.g., total return, variance, auto-correlation, etc.) for a given time series over a fixed temporal window."
   ]
  },
  {
   "cell_type": "markdown",
   "metadata": {},
   "source": [
    "API Parameters\n",
    "❚ Required: function\n",
    "\n",
    "The function of your choice. In this case, function=ANALYTICS_FIXED_WINDOW\n",
    "\n",
    "❚ Required: SYMBOLS\n",
    "\n",
    "A list of symbols for the calculation. It can be a comma separated list of symbols as a string. Free API keys can specify up to 5 symbols per API request. Premium API keys can specify up to 50 symbols per API request.\n",
    "\n",
    "❚ Required: RANGE\n",
    "\n",
    "This is the date range for the series being requested. By default, the date range is the full set of data for the equity history. This can be further modified by the LIMIT variable.\n",
    "\n",
    "RANGE can take certain text values as inputs. They are:\n",
    "\n",
    "full\n",
    "{N}day\n",
    "{N}week\n",
    "{N}month\n",
    "{N}year\n",
    "For intraday time series, the following RANGE values are also accepted:\n",
    "\n",
    "{N}minute\n",
    "{N}hour\n",
    "Aside from the “full” value which represents the entire time series, the other values specify an interval to return the series for as measured backwards from the current date/time.\n",
    "\n",
    "To specify start & end dates for your analytics calcuation, simply add two RANGE parameters in your API request. For example: RANGE=2023-07-01&RANGE=2023-08-31 or RANGE=2020-12-01T00:04:00&RANGE=2020-12-06T23:59:59 with minute-level precision for intraday analytics. If the end date is missing, the end date is assumed to be the last trading date. In addition, you can request a full month of data by using YYYY-MM format like 2020-12. One day of intraday data can be requested by using YYYY-MM-DD format like 2020-12-06\n",
    "\n",
    "❚ Optional: OHLC\n",
    "\n",
    "This allows you to choose which open, high, low, or close field the calculation will be performed on. By default, OHLC=close. Valid values for these fields are open, high, low, close.\n",
    "\n",
    "❚ Required: INTERVAL\n",
    "\n",
    "Time interval between two consecutive data points in the time series. The following values are supported: 1min, 5min, 15min, 30min, 60min, DAILY, WEEKLY, MONTHLY.\n",
    "\n",
    "❚ Required: CALCULATIONS\n",
    "\n",
    "A comma separated list of the analytics metrics you would like to calculate:\n",
    "\n",
    "MIN: The minimum return (largest negative or smallest positive) for all values in the series\n",
    "MAX: The maximum return for all values in the series\n",
    "MEAN: The mean of all returns in the series\n",
    "MEDIAN: The median of all returns in the series\n",
    "CUMULATIVE_RETURN: The total return from the beginning to the end of the series range\n",
    "VARIANCE: The population variance of returns in the series range. Optionally, you can use VARIANCE(annualized=True)to normalized the output to an annual value. By default, the variance is not annualized.\n",
    "STDDEV: The population standard deviation of returns in the series range for each symbol. Optionally, you can use STDDEV(annualized=True)to normalized the output to an annual value. By default, the standard deviation is not annualized.\n",
    "MAX_DRAWDOWN: Largest peak to trough interval for each symbol in the series range\n",
    "HISTOGRAM: For each symbol, place the observed total returns in bins. By default, bins=10. Use HISTOGRAM(bins=20) to specify a custom bin value (e.g., 20).\n",
    "AUTOCORRELATION: For each symbol place, calculate the autocorrelation for the given lag (e.g., the lag in neighboring points for the autocorrelation calculation). By default, lag=1. Use AUTOCORRELATION(lag=2) to specify a custom lag value (e.g., 2).\n",
    "COVARIANCE: Returns a covariance matrix for the input symbols. Optionally, you can use COVARIANCE(annualized=True)to normalized the output to an annual value. By default, the covariance is not annualized.\n",
    "CORRELATION: Returns a correlation matrix for the input symbols, using the PEARSON method as default. You can also specify the KENDALL or SPEARMAN method through CORRELATION(method=KENDALL) or CORRELATION(method=SPEARMAN), respectively.\n",
    "❚ Required: apikey"
   ]
  },
  {
   "cell_type": "code",
   "execution_count": 6,
   "metadata": {},
   "outputs": [
    {
     "data": {
      "text/plain": [
       "'PETR4.SAO,ITUB4.SAO,VALE3.SAO,WEGE3.SAO,ABEV3.SAO'"
      ]
     },
     "execution_count": 6,
     "metadata": {},
     "output_type": "execute_result"
    }
   ],
   "source": [
    "symbols_string"
   ]
  },
  {
   "cell_type": "code",
   "execution_count": 7,
   "metadata": {},
   "outputs": [
    {
     "name": "stdout",
     "output_type": "stream",
     "text": [
      "Dados salvos em: ../data\\ANALYTICS_FIXED_WINDOW.json\n"
     ]
    }
   ],
   "source": [
    "# Construir a URL para a solicitação\n",
    "url = (f'https://alphavantageapi.co/timeseries/analytics?SYMBOLS={symbols_string}&RANGE={set_range_start}&RANGE={set_range_end}&INTERVAL=DAILY&OHLC=close&CALCULATIONS=MEAN,STDDEV,CORRELATION&apikey={set_api_key}')\n",
    "\n",
    "# Fazer a solicitação\n",
    "response = requests.get(url)\n",
    "data = response.json()\n",
    "\n",
    "# Definir o caminho da pasta e o nome do arquivo\n",
    "file_name = 'ANALYTICS_FIXED_WINDOW.json'\n",
    "\n",
    "# Caminho completo do arquivo\n",
    "file_path = os.path.join(folder_path, file_name)\n",
    "\n",
    "# Salvar todos os dados no arquivo JSON\n",
    "with open(file_path, 'w') as json_file:\n",
    "    json.dump(data, json_file, indent=4)\n",
    "\n",
    "print(f'Dados salvos em: {file_path}')"
   ]
  },
  {
   "cell_type": "markdown",
   "metadata": {},
   "source": [
    "## Fundamental Data\n",
    "We offer the following set of fundamental data APIs in various temporal dimensions covering key financial metrics, income statements, balance sheets, cash flow, and other fundamental data points.\n",
    "\n",
    "Company Overview\n",
    "This API returns the company information, financial ratios, and other key metrics for the equity specified. Data is generally refreshed on the same day a company reports its latest earnings and financials."
   ]
  },
  {
   "cell_type": "markdown",
   "metadata": {},
   "source": [
    "API Parameters\n",
    "❚ Required: function\n",
    "\n",
    "The function of your choice. In this case, function=OVERVIEW\n",
    "\n",
    "❚ Required: symbol\n",
    "\n",
    "The symbol of the ticker of your choice. For example: symbol=IBM.\n",
    "\n",
    "❚ Required: apikey"
   ]
  },
  {
   "cell_type": "code",
   "execution_count": 8,
   "metadata": {},
   "outputs": [
    {
     "name": "stdout",
     "output_type": "stream",
     "text": [
      "Dados salvos em: ../data\\OVERVIEW.json\n"
     ]
    }
   ],
   "source": [
    "# Dicionário para armazenar todos os dados\n",
    "all_data = {}\n",
    "\n",
    "# Loop para cada símbolo\n",
    "for symbol in arr_principal_symbols:\n",
    "    # Construir a URL para a solicitação\n",
    "    url = (f'https://www.alphavantage.co/query?function=OVERVIEW&symbol={symbol}&apikey={set_api_key}')\n",
    "\n",
    "    # Fazer a solicitação\n",
    "    response = requests.get(url)\n",
    "    data = response.json()\n",
    "    \n",
    "    # Adicionar os dados ao dicionário all_data com o symbol como chave\n",
    "    all_data[symbol] = data\n",
    "\n",
    "# Definir o nome do arquivo\n",
    "file_name = 'OVERVIEW.json'\n",
    "\n",
    "# Caminho completo do arquivo\n",
    "file_path = os.path.join(folder_path, file_name)\n",
    "\n",
    "# Salvar todos os dados no arquivo JSON\n",
    "with open(file_path, 'w') as json_file:\n",
    "    json.dump(all_data, json_file, indent=4)\n",
    "\n",
    "print(f'Dados salvos em: {file_path}')"
   ]
  },
  {
   "cell_type": "markdown",
   "metadata": {},
   "source": [
    "## FOREX"
   ]
  },
  {
   "cell_type": "markdown",
   "metadata": {},
   "source": [
    "## FX_DAILY\n",
    "\n",
    "This API returns the daily time series (timestamp, open, high, low, close) of the FX currency pair specified, updated realtime."
   ]
  },
  {
   "cell_type": "markdown",
   "metadata": {},
   "source": [
    "API Parameters\n",
    "❚ Required: function\n",
    "\n",
    "The time series of your choice. In this case, function=FX_DAILY\n",
    "\n",
    "❚ Required: from_symbol\n",
    "\n",
    "A three-letter symbol from the forex currency list. For example: from_symbol=EUR\n",
    "\n",
    "❚ Required: to_symbol\n",
    "\n",
    "A three-letter symbol from the forex currency list. For example: to_symbol=USD\n",
    "\n",
    "❚ Optional: outputsize\n",
    "\n",
    "By default, outputsize=compact. Strings compact and full are accepted with the following specifications: compact returns only the latest 100 data points in the daily time series; full returns the full-length daily time series. The \"compact\" option is recommended if you would like to reduce the data size of each API call.\n",
    "\n",
    "❚ Optional: datatype\n",
    "\n",
    "By default, datatype=json. Strings json and csv are accepted with the following specifications: json returns the daily time series in JSON format; csv returns the time series as a CSV (comma separated value) file.\n",
    "\n",
    "❚ Required: apikey"
   ]
  },
  {
   "cell_type": "code",
   "execution_count": 9,
   "metadata": {},
   "outputs": [
    {
     "name": "stdout",
     "output_type": "stream",
     "text": [
      "Dados salvos em: ../data\\FX_DAILY.json\n"
     ]
    }
   ],
   "source": [
    "# Construir a URL para a solicitação\n",
    "url = (f'https://www.alphavantage.co/query?function=FX_DAILY&from_symbol={set_fx_from_symbol}&to_symbol={set_fx_to_symbol}&apikey={set_api_key}')\n",
    "\n",
    "# Fazer a solicitação\n",
    "response = requests.get(url)\n",
    "data = response.json()\n",
    "\n",
    "# Definir o caminho da pasta e o nome do arquivo\n",
    "file_name = 'FX_DAILY.json'\n",
    "\n",
    "# Caminho completo do arquivo\n",
    "file_path = os.path.join(folder_path, file_name)\n",
    "\n",
    "# Salvar todos os dados no arquivo JSON\n",
    "with open(file_path, 'w') as json_file:\n",
    "    json.dump(data, json_file, indent=4)\n",
    "\n",
    "print(f'Dados salvos em: {file_path}')"
   ]
  },
  {
   "cell_type": "markdown",
   "metadata": {},
   "source": [
    "# CRIPTO"
   ]
  },
  {
   "cell_type": "markdown",
   "metadata": {},
   "source": [
    "## CURRENCY_EXCHANGE_RATE Trending\n",
    "\n",
    "This API returns the realtime exchange rate for any pair of digital currency (e.g., Bitcoin) or physical currency (e.g., USD)."
   ]
  },
  {
   "cell_type": "markdown",
   "metadata": {},
   "source": [
    "API Parameters\n",
    "❚ Required: function\n",
    "\n",
    "The function of your choice. In this case, function=CURRENCY_EXCHANGE_RATE\n",
    "\n",
    "❚ Required: from_currency\n",
    "\n",
    "The currency you would like to get the exchange rate for. It can either be a physical currency or digital/crypto currency. For example: from_currency=USD or from_currency=BTC.\n",
    "\n",
    "❚ Required: to_currency\n",
    "\n",
    "The destination currency for the exchange rate. It can either be a physical currency or digital/crypto currency. For example: to_currency=USD or to_currency=BTC.\n",
    "\n",
    "❚ Required: apikey"
   ]
  },
  {
   "cell_type": "code",
   "execution_count": 10,
   "metadata": {},
   "outputs": [
    {
     "data": {
      "text/plain": [
       "\"\\n# Construir a URL para a solicitação\\nurl = (f'https://www.alphavantage.co/query?function=CURRENCY_EXCHANGE_RATE&from_currency={set_cripto_symbol}&to_currency={set_fx_from_symbol}&apikey={set_api_key}')\\n\\n# Fazer a solicitação\\nresponse = requests.get(url)\\ndata = response.json()\\n\\n# Definir o caminho da pasta e o nome do arquivo\\nfile_name = 'CURRENCY_EXCHANGE_RATE.json'\\n\\n# Caminho completo do arquivo\\nfile_path = os.path.join(folder_path, file_name)\\n\\n# Salvar todos os dados no arquivo JSON\\nwith open(file_path, 'w') as json_file:\\n    json.dump(data, json_file, indent=4)\\n\\nprint(f'Dados salvos em: {file_path}')\\n\""
      ]
     },
     "execution_count": 10,
     "metadata": {},
     "output_type": "execute_result"
    }
   ],
   "source": [
    "'''\n",
    "# Construir a URL para a solicitação\n",
    "url = (f'https://www.alphavantage.co/query?function=CURRENCY_EXCHANGE_RATE&from_currency={set_cripto_symbol}&to_currency={set_fx_from_symbol}&apikey={set_api_key}')\n",
    "\n",
    "# Fazer a solicitação\n",
    "response = requests.get(url)\n",
    "data = response.json()\n",
    "\n",
    "# Definir o caminho da pasta e o nome do arquivo\n",
    "file_name = 'CURRENCY_EXCHANGE_RATE.json'\n",
    "\n",
    "# Caminho completo do arquivo\n",
    "file_path = os.path.join(folder_path, file_name)\n",
    "\n",
    "# Salvar todos os dados no arquivo JSON\n",
    "with open(file_path, 'w') as json_file:\n",
    "    json.dump(data, json_file, indent=4)\n",
    "\n",
    "print(f'Dados salvos em: {file_path}')\n",
    "'''"
   ]
  },
  {
   "cell_type": "markdown",
   "metadata": {},
   "source": [
    "## DIGITAL_CURRENCY_DAILY\n",
    "\n",
    "This API returns the daily historical time series for a digital currency (e.g., BTC) traded on a specific market (e.g., EUR/Euro), refreshed daily at midnight (UTC). Prices and volumes are quoted in both the market-specific currency and USD."
   ]
  },
  {
   "cell_type": "markdown",
   "metadata": {},
   "source": [
    "API Parameters\n",
    "❚ Required: function\n",
    "\n",
    "The time series of your choice. In this case, function=DIGITAL_CURRENCY_DAILY\n",
    "\n",
    "❚ Required: symbol\n",
    "\n",
    "The digital/crypto currency of your choice. It can be any of the currencies in the digital currency list. For example: symbol=BTC.\n",
    "\n",
    "❚ Required: market\n",
    "\n",
    "The exchange market of your choice. It can be any of the market in the market list. For example: market=EUR.\n",
    "\n",
    "❚ Required: apikey"
   ]
  },
  {
   "cell_type": "code",
   "execution_count": 11,
   "metadata": {},
   "outputs": [
    {
     "name": "stdout",
     "output_type": "stream",
     "text": [
      "Dados salvos em: ../data\\DIGITAL_CURRENCY_DAILY.json\n"
     ]
    }
   ],
   "source": [
    "# Construir a URL para a solicitação\n",
    "url = (f'https://www.alphavantage.co/query?function=DIGITAL_CURRENCY_DAILY&symbol={set_cripto_symbol}&market={set_fx_from_symbol}&apikey={set_api_key}')\n",
    "\n",
    "# Fazer a solicitação\n",
    "response = requests.get(url)\n",
    "data = response.json()\n",
    "\n",
    "# Definir o caminho da pasta e o nome do arquivo\n",
    "file_name = 'DIGITAL_CURRENCY_DAILY.json'\n",
    "\n",
    "# Caminho completo do arquivo\n",
    "file_path = os.path.join(folder_path, file_name)\n",
    "\n",
    "# Salvar todos os dados no arquivo JSON\n",
    "with open(file_path, 'w') as json_file:\n",
    "    json.dump(data, json_file, indent=4)\n",
    "\n",
    "print(f'Dados salvos em: {file_path}')\n"
   ]
  },
  {
   "cell_type": "markdown",
   "metadata": {},
   "source": [
    "# Indices"
   ]
  },
  {
   "cell_type": "markdown",
   "metadata": {},
   "source": [
    "## Global Price Index of All Commodities\n",
    "\n",
    "This API returns the global price index of all commodities in monthly, quarterly, and annual temporal dimensions.\n",
    "\n",
    "Source: International Monetary Fund (IMF Terms of Use), Global Price Index of All Commodities, retrieved from FRED, Federal Reserve Bank of St. Louis. This data feed uses the FRED® API but is not endorsed or certified by the Federal Reserve Bank of St. Louis. By using this data feed, you agree to be bound by the FRED® API Terms of Use.\n",
    "\n"
   ]
  },
  {
   "cell_type": "markdown",
   "metadata": {},
   "source": [
    "API Parameters\n",
    "❚ Required: function\n",
    "\n",
    "The function of your choice. In this case, function=ALL_COMMODITIES\n",
    "\n",
    "❚ Optional: interval\n",
    "\n",
    "By default, interval=monthly. Strings monthly, quarterly, and annual are accepted.\n",
    "\n",
    "❚ Optional: datatype\n",
    "\n",
    "By default, datatype=json. Strings json and csv are accepted with the following specifications: json returns the time series in JSON format; csv returns the time series as a CSV (comma separated value) file.\n",
    "\n",
    "❚ Required: apikey"
   ]
  },
  {
   "cell_type": "code",
   "execution_count": 12,
   "metadata": {},
   "outputs": [
    {
     "name": "stdout",
     "output_type": "stream",
     "text": [
      "Dados salvos em: ../data\\OVERVIEW.json\n"
     ]
    }
   ],
   "source": [
    "# Dicionário para armazenar todos os dados\n",
    "all_data = {}\n",
    "\n",
    "# Loop para cada símbolo\n",
    "for symbol in arr_commodities_functions:\n",
    "    # Construir a URL para a solicitação\n",
    "    url = f'https://www.alphavantage.co/query?function={symbol}&apikey={set_api_key}'\n",
    "\n",
    "    # Fazer a solicitação\n",
    "    response = requests.get(url)\n",
    "    data = response.json()\n",
    "    \n",
    "    # Adicionar os dados ao dicionário all_data com o symbol como chave\n",
    "    all_data[symbol] = data\n",
    "\n",
    "# Definir o nome do arquivo\n",
    "file_name = 'OVERVIEW.json'\n",
    "\n",
    "# Caminho completo do arquivo\n",
    "file_path = os.path.join(folder_path, file_name)\n",
    "\n",
    "# Salvar todos os dados no arquivo JSON\n",
    "with open(file_path, 'w') as json_file:\n",
    "    json.dump(all_data, json_file, indent=4)\n",
    "\n",
    "print(f'Dados salvos em: {file_path}')\n"
   ]
  }
 ],
 "metadata": {
  "kernelspec": {
   "display_name": "venv",
   "language": "python",
   "name": "python3"
  },
  "language_info": {
   "codemirror_mode": {
    "name": "ipython",
    "version": 3
   },
   "file_extension": ".py",
   "mimetype": "text/x-python",
   "name": "python",
   "nbconvert_exporter": "python",
   "pygments_lexer": "ipython3",
   "version": "3.12.6"
  }
 },
 "nbformat": 4,
 "nbformat_minor": 2
}
